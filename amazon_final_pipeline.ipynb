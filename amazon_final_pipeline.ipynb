{
 "cells": [
  {
   "cell_type": "markdown",
   "metadata": {
    "colab_type": "text",
    "id": "z_4z6_8Qp81z"
   },
   "source": [
    "# **Amazon Employee Access Challenge (Part-3)**\n",
    "##Final Pipeline"
   ]
  },
  {
   "cell_type": "code",
   "execution_count": 22,
   "metadata": {
    "colab": {},
    "colab_type": "code",
    "id": "UsLHmCExKJVd"
   },
   "outputs": [],
   "source": [
    "#Importing libraries\n",
    "import numpy as np\n",
    "import seaborn as sns\n",
    "import pandas as pd\n",
    "import matplotlib.pyplot as plt\n",
    "import pickle\n",
    "from tqdm import tqdm\n",
    "from itertools import combinations\n",
    "from collections import Counter\n",
    "from scipy import sparse\n",
    "from sklearn.linear_model import LogisticRegression\n",
    "from sklearn.model_selection import StratifiedKFold\n",
    "import sklearn.metrics as metrics\n",
    "\n",
    "import warnings\n",
    "warnings.filterwarnings(\"ignore\")"
   ]
  },
  {
   "cell_type": "code",
   "execution_count": 7,
   "metadata": {
    "colab": {
     "base_uri": "https://localhost:8080/",
     "height": 277
    },
    "colab_type": "code",
    "id": "vS39RTBJmGCB",
    "outputId": "29917445-4dc0-48f9-aa54-c25dedfc61b4"
   },
   "outputs": [
    {
     "name": "stdout",
     "output_type": "stream",
     "text": [
      "Collecting category_encoders\n",
      "\u001b[?25l  Downloading https://files.pythonhosted.org/packages/44/57/fcef41c248701ee62e8325026b90c432adea35555cbc870aff9cfba23727/category_encoders-2.2.2-py2.py3-none-any.whl (80kB)\n",
      "\u001b[K     |████████████████████████████████| 81kB 3.6MB/s \n",
      "\u001b[?25hRequirement already satisfied: patsy>=0.5.1 in /usr/local/lib/python3.6/dist-packages (from category_encoders) (0.5.1)\n",
      "Requirement already satisfied: numpy>=1.14.0 in /usr/local/lib/python3.6/dist-packages (from category_encoders) (1.18.5)\n",
      "Requirement already satisfied: statsmodels>=0.9.0 in /usr/local/lib/python3.6/dist-packages (from category_encoders) (0.10.2)\n",
      "Requirement already satisfied: scikit-learn>=0.20.0 in /usr/local/lib/python3.6/dist-packages (from category_encoders) (0.22.2.post1)\n",
      "Requirement already satisfied: scipy>=1.0.0 in /usr/local/lib/python3.6/dist-packages (from category_encoders) (1.4.1)\n",
      "Requirement already satisfied: pandas>=0.21.1 in /usr/local/lib/python3.6/dist-packages (from category_encoders) (1.0.5)\n",
      "Requirement already satisfied: six in /usr/local/lib/python3.6/dist-packages (from patsy>=0.5.1->category_encoders) (1.12.0)\n",
      "Requirement already satisfied: joblib>=0.11 in /usr/local/lib/python3.6/dist-packages (from scikit-learn>=0.20.0->category_encoders) (0.15.1)\n",
      "Requirement already satisfied: pytz>=2017.2 in /usr/local/lib/python3.6/dist-packages (from pandas>=0.21.1->category_encoders) (2018.9)\n",
      "Requirement already satisfied: python-dateutil>=2.6.1 in /usr/local/lib/python3.6/dist-packages (from pandas>=0.21.1->category_encoders) (2.8.1)\n",
      "Installing collected packages: category-encoders\n",
      "Successfully installed category-encoders-2.2.2\n"
     ]
    }
   ],
   "source": [
    "!pip install category_encoders"
   ]
  },
  {
   "cell_type": "code",
   "execution_count": 8,
   "metadata": {
    "colab": {},
    "colab_type": "code",
    "id": "OZ7gwXd7ILWJ"
   },
   "outputs": [],
   "source": [
    "#Reading data\n",
    "data = pd.read_csv('train.csv')\n",
    "data_test = pd.read_csv('test.csv')"
   ]
  },
  {
   "cell_type": "code",
   "execution_count": 9,
   "metadata": {
    "colab": {},
    "colab_type": "code",
    "id": "FLtfa7YzN414"
   },
   "outputs": [],
   "source": [
    "Y = data['ACTION']\n",
    "X = data.drop('ACTION', axis = 1)\n",
    "\n",
    "#Dropping ROLE_CODE feature.\n",
    "X = X.drop('ROLE_CODE', axis = 1)\n",
    "\n",
    "X_test = data_test.drop('ROLE_CODE', axis = 1)\n",
    "X_test = X_test.drop('id', axis = 1)"
   ]
  },
  {
   "cell_type": "code",
   "execution_count": 10,
   "metadata": {
    "colab": {},
    "colab_type": "code",
    "id": "XuUQJI0x8R27"
   },
   "outputs": [],
   "source": [
    "def concat_features_duplet(df_train, cols):\n",
    "    dup_features = []\n",
    "    for indicies in combinations(range(len(cols)), 2):\n",
    "        dup_features.append([hash(tuple(v)) for v in df_train[:,list(indicies)]])\n",
    "    return np.array(dup_features).T"
   ]
  },
  {
   "cell_type": "code",
   "execution_count": 11,
   "metadata": {
    "colab": {},
    "colab_type": "code",
    "id": "vTXm5Tvz5KqI"
   },
   "outputs": [],
   "source": [
    "def concat_features_triplet(df_train, cols):\n",
    "    tri_features = []\n",
    "    for indicies in combinations(range(len(cols)), 3):\n",
    "        tri_features.append([hash(tuple(v)) for v in df_train[:,list(indicies)]])\n",
    "    return np.array(tri_features).T"
   ]
  },
  {
   "cell_type": "code",
   "execution_count": 12,
   "metadata": {
    "colab": {},
    "colab_type": "code",
    "id": "pq9KWehN5Hrl"
   },
   "outputs": [],
   "source": [
    "def category_freq(X):\n",
    "    X_new = X.copy()\n",
    "    for f in X_new.columns:\n",
    "        col_count = dict(Counter(X_new[f].values))\n",
    "\n",
    "        for r in X_new.itertuples():\n",
    "            X_new.at[r[0], f'{f}_freq'] = col_count[X_new.loc[r[0], f]]\n",
    "    return X_new"
   ]
  },
  {
   "cell_type": "markdown",
   "metadata": {
    "colab_type": "text",
    "id": "y755le-aK6ab"
   },
   "source": [
    "###Function-1 - Predictor"
   ]
  },
  {
   "cell_type": "code",
   "execution_count": 18,
   "metadata": {
    "colab": {},
    "colab_type": "code",
    "id": "52dT1hK3CYcP"
   },
   "outputs": [],
   "source": [
    "#Loading models from disk\n",
    "\n",
    "with open('one_hot.pickle', 'rb') as f:\n",
    "    one_enc = pickle.load(f)\n",
    "\n",
    "with open('lab_dup.pickle', 'rb') as g:\n",
    "    lab_dup_enc = pickle.load(g)\n",
    "\n",
    "with open('lab_tri.pickle', 'rb') as h:\n",
    "    lab_tri_enc = pickle.load(h)\n",
    "\n",
    "with open('scaler.pickle', 'rb') as i:\n",
    "    scaler = pickle.load(i)\n",
    "\n",
    "filename = 'logreg1_updated.sav'\n",
    "loaded_model = pickle.load(open(filename, 'rb'))\n",
    "\n",
    "def final_fun_1(X):\n",
    "\n",
    "    X_dup_test = concat_features_duplet(np.array(X), ['RESOURCE', 'MGR_ID', 'ROLE_ROLLUP_1', 'ROLE_ROLLUP_2', 'ROLE_DEPTNAME',\n",
    "          'ROLE_TITLE', 'ROLE_FAMILY_DESC', 'ROLE_FAMILY'])\n",
    "\n",
    "    X_tri_test = concat_features_triplet(np.array(X), ['RESOURCE', 'MGR_ID', 'ROLE_ROLLUP_1', 'ROLE_ROLLUP_2', 'ROLE_DEPTNAME',\n",
    "          'ROLE_TITLE', 'ROLE_FAMILY_DESC', 'ROLE_FAMILY'])\n",
    "    \n",
    "    X_dup_test= lab_dup_enc.transform(X_dup_test)\n",
    "    X_tri_test= lab_tri_enc.transform(X_tri_test)\n",
    "\n",
    "    X_freq_test = np.array(category_freq(X).iloc[:,8:])\n",
    "\n",
    "    X_all_categorical = np.hstack((X, X_dup_test, X_tri_test))\n",
    "    \n",
    "    X_freq = scaler.transform(X_freq_test)\n",
    "\n",
    "    X_all_categorical_selected= X_all_categorical[:, [64, 42, 69, 11, 85, 0, 65, 67, 29, 9, 66, 47, 60, 10, 12, 71, 8, 53, 79, 19, 36, 63, 37, 43, 41]]\n",
    "    X_freq_selected = X_freq[:, [1, 5, 7]]\n",
    "\n",
    "    X_selected = sparse.hstack((one_enc.transform(X_all_categorical_selected), X_freq_selected))\n",
    "    \n",
    "    preds = loaded_model.predict_proba(X_selected)[:, 1]\n",
    "\n",
    "    access_or_not = loaded_model.predict(X_selected)\n",
    "\n",
    "    return preds, access_or_not"
   ]
  },
  {
   "cell_type": "code",
   "execution_count": 31,
   "metadata": {
    "colab": {
     "base_uri": "https://localhost:8080/",
     "height": 34
    },
    "colab_type": "code",
    "id": "oGw4Eeygwqs8",
    "outputId": "0c51aaba-7e42-4f4f-d062-04bf7e779c27"
   },
   "outputs": [
    {
     "name": "stdout",
     "output_type": "stream",
     "text": [
      "[1 1 1]\n"
     ]
    }
   ],
   "source": [
    "_, access_or_not = final_fun_1(X_test.iloc[[1,2,3]])\n",
    "\n",
    "print(access_or_not)"
   ]
  },
  {
   "cell_type": "markdown",
   "metadata": {},
   "source": [
    "1, 1, 1 means that access can be granted for these 3 users."
   ]
  },
  {
   "cell_type": "markdown",
   "metadata": {
    "colab_type": "text",
    "id": "3JIAnUOAK_ZC"
   },
   "source": [
    "###Function-2 - Evaluator"
   ]
  },
  {
   "cell_type": "code",
   "execution_count": 29,
   "metadata": {
    "colab": {},
    "colab_type": "code",
    "id": "N2syxcHpRco7"
   },
   "outputs": [],
   "source": [
    "def final_fun_2(X, Y):\n",
    "\n",
    "    mean_auc = []\n",
    "\n",
    "    kf = StratifiedKFold(n_splits = 5,shuffle=True,random_state=37)\n",
    "\n",
    "    for idx, (train_index, test_index) in enumerate(kf.split(X, Y)):\n",
    "\n",
    "        X_train = X.iloc[train_index]\n",
    "        y_train = Y.iloc[train_index]\n",
    "        X_cv = X.iloc[test_index]\n",
    "        y_cv = Y.iloc[test_index]\n",
    "\n",
    "        preds, _ = final_fun_1(X_cv)\n",
    "\n",
    "        fpr, tpr, thresholds = metrics.roc_curve(y_cv, preds)\n",
    "        roc_auc = metrics.auc(fpr, tpr)\n",
    "        mean_auc.append(roc_auc)\n",
    "        print(f\"For KFold: {idx+1}/5, AUC = {roc_auc}\")\n",
    "    \n",
    "    print(f\"\\nAverage AUC Score: {np.mean(mean_auc)}\")"
   ]
  },
  {
   "cell_type": "code",
   "execution_count": 30,
   "metadata": {
    "colab": {
     "base_uri": "https://localhost:8080/",
     "height": 138
    },
    "colab_type": "code",
    "id": "A9s1LqTBdAGh",
    "outputId": "cc3a8c07-aa04-4d6b-a505-8dd1a3393ae5"
   },
   "outputs": [
    {
     "name": "stdout",
     "output_type": "stream",
     "text": [
      "For KFold: 1/5, AUC = 0.9800531914893618\n",
      "For KFold: 2/5, AUC = 0.9238996297819827\n",
      "For KFold: 3/5, AUC = 0.9819004524886877\n",
      "For KFold: 4/5, AUC = 0.9802550390785686\n",
      "For KFold: 5/5, AUC = 0.9901960784313725\n",
      "\n",
      "Average AUC Score: 0.9712608782539947\n"
     ]
    }
   ],
   "source": [
    "final_fun_2(X.iloc[1:1000],Y.iloc[1:1000])"
   ]
  },
  {
   "cell_type": "markdown",
   "metadata": {
    "colab_type": "text",
    "id": "vMoqw202Ktcw"
   },
   "source": [
    "###NOTE: The Model is giving overfitted results here as we are predicting the same training data again which we used to train the model."
   ]
  }
 ],
 "metadata": {
  "colab": {
   "collapsed_sections": [],
   "name": "final.ipynb",
   "provenance": [],
   "toc_visible": true
  },
  "kernelspec": {
   "display_name": "Python 3",
   "language": "python",
   "name": "python3"
  },
  "language_info": {
   "codemirror_mode": {
    "name": "ipython",
    "version": 3
   },
   "file_extension": ".py",
   "mimetype": "text/x-python",
   "name": "python",
   "nbconvert_exporter": "python",
   "pygments_lexer": "ipython3",
   "version": "3.7.3"
  }
 },
 "nbformat": 4,
 "nbformat_minor": 1
}
